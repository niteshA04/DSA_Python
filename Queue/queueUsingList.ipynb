{
 "cells": [
  {
   "cell_type": "markdown",
   "id": "f6eedcd6",
   "metadata": {},
   "source": [
    "# Queue using List\n",
    "- Queue is a type of Linear Data Structure which works on the First In First Out (FIFO) or Last In Last Out (LILO) principle.\n",
    "- Eg: Ticket queue line, person on an escalator etc.\n",
    "- Elements added from back are called Back/Tail/Rear.\n",
    "- Elements removed from front are calles Front/Head.\n",
    "- Queue Operations are:\n",
    "    1. Enqueue\n",
    "    2. Dequeue\n",
    "    3. isFull\n",
    "    4. isEmpty\n",
    "- Enqueue: Enqueue operation allows us to add elements into the stack.\n",
    "- Dequeue: Dequeue operation allows us to remove the elements from the stack.\n",
    "- isFull: isFull tells us wheather the stack is full or not.\n",
    "- isEmpty: isEmpty tells us wheather the stack is empty or not.\n",
    "- In python Queue is not a built in data structure.\n",
    "- Queue can be implemented using \n",
    "    1. List and\n",
    "    2. Class\n",
    "- In python .append() and .pop() are used for Enqueue and Dequeue Operations."
   ]
  },
  {
   "cell_type": "markdown",
   "id": "34859b0d",
   "metadata": {},
   "source": [
    "### ENQUEUE FUNCTION"
   ]
  },
  {
   "cell_type": "code",
   "execution_count": 1,
   "id": "4e8f40e7",
   "metadata": {},
   "outputs": [],
   "source": [
    "def enqueue(n):\n",
    "    queue.append(n)\n",
    "    print(\"Queue is: \", queue,\"\\n\")"
   ]
  },
  {
   "cell_type": "markdown",
   "id": "8d893e20",
   "metadata": {},
   "source": [
    "### DEQUEUE FUNCTION"
   ]
  },
  {
   "cell_type": "code",
   "execution_count": 2,
   "id": "67458322",
   "metadata": {},
   "outputs": [],
   "source": [
    "def dequeue():\n",
    "    if len(queue)==0:\n",
    "        print(\"Queue is Empty!!\")\n",
    "    else:\n",
    "        e = queue.pop(0)\n",
    "        print(\"REMOVED: \",e,\"\\n\")\n",
    "        print(\"Queue is: \",queue)"
   ]
  },
  {
   "cell_type": "markdown",
   "id": "f6f00cd7",
   "metadata": {},
   "source": [
    "### Creating Empty Queue"
   ]
  },
  {
   "cell_type": "code",
   "execution_count": 3,
   "id": "2045701b",
   "metadata": {},
   "outputs": [],
   "source": [
    "queue = []"
   ]
  },
  {
   "cell_type": "markdown",
   "id": "d38c115a",
   "metadata": {},
   "source": [
    "### Using Operations"
   ]
  },
  {
   "cell_type": "code",
   "execution_count": 4,
   "id": "3c818606",
   "metadata": {},
   "outputs": [
    {
     "name": "stdout",
     "output_type": "stream",
     "text": [
      "\n",
      "Select Choice:\n",
      "1. Push\n",
      "2. Pop\n",
      "3. Quit\n",
      "\n",
      "1\n",
      "Enter element: \n",
      "476\n",
      "Queue is:  ['476'] \n",
      "\n",
      "\n",
      "Select Choice:\n",
      "1. Push\n",
      "2. Pop\n",
      "3. Quit\n",
      "\n",
      "1\n",
      "Enter element: \n",
      "87456\n",
      "Queue is:  ['476', '87456'] \n",
      "\n",
      "\n",
      "Select Choice:\n",
      "1. Push\n",
      "2. Pop\n",
      "3. Quit\n",
      "\n",
      "1\n",
      "Enter element: \n",
      "asg\n",
      "Queue is:  ['476', '87456', 'asg'] \n",
      "\n",
      "\n",
      "Select Choice:\n",
      "1. Push\n",
      "2. Pop\n",
      "3. Quit\n",
      "\n",
      "1\n",
      "Enter element: \n",
      "faw1\n",
      "Queue is:  ['476', '87456', 'asg', 'faw1'] \n",
      "\n",
      "\n",
      "Select Choice:\n",
      "1. Push\n",
      "2. Pop\n",
      "3. Quit\n",
      "\n",
      "2\n",
      "REMOVED:  476 \n",
      "\n",
      "Queue is:  ['87456', 'asg', 'faw1']\n",
      "\n",
      "Select Choice:\n",
      "1. Push\n",
      "2. Pop\n",
      "3. Quit\n",
      "\n",
      "2\n",
      "REMOVED:  87456 \n",
      "\n",
      "Queue is:  ['asg', 'faw1']\n",
      "\n",
      "Select Choice:\n",
      "1. Push\n",
      "2. Pop\n",
      "3. Quit\n",
      "\n",
      "2\n",
      "REMOVED:  asg \n",
      "\n",
      "Queue is:  ['faw1']\n",
      "\n",
      "Select Choice:\n",
      "1. Push\n",
      "2. Pop\n",
      "3. Quit\n",
      "\n",
      "2\n",
      "REMOVED:  faw1 \n",
      "\n",
      "Queue is:  []\n",
      "\n",
      "Select Choice:\n",
      "1. Push\n",
      "2. Pop\n",
      "3. Quit\n",
      "\n",
      "2\n",
      "Queue is Empty!!\n",
      "\n",
      "Select Choice:\n",
      "1. Push\n",
      "2. Pop\n",
      "3. Quit\n",
      "\n",
      "2\n",
      "Queue is Empty!!\n",
      "\n",
      "Select Choice:\n",
      "1. Push\n",
      "2. Pop\n",
      "3. Quit\n",
      "\n",
      "3\n"
     ]
    }
   ],
   "source": [
    "while True:\n",
    "    print(\"\\nSelect Choice:\\n1. Push\\n2. Pop\\n3. Quit\\n\")\n",
    "    choice = int(input())\n",
    "    if choice==1:\n",
    "        enqueue(input(\"Enter element: \\n\"))\n",
    "    elif choice==2:\n",
    "        dequeue()\n",
    "    elif choice==3:\n",
    "        break\n",
    "    else:\n",
    "        print(\"Enter Appropriate Option!!\\n\")"
   ]
  },
  {
   "cell_type": "code",
   "execution_count": null,
   "id": "98110343",
   "metadata": {},
   "outputs": [],
   "source": []
  }
 ],
 "metadata": {
  "kernelspec": {
   "display_name": "Python 3 (ipykernel)",
   "language": "python",
   "name": "python3"
  },
  "language_info": {
   "codemirror_mode": {
    "name": "ipython",
    "version": 3
   },
   "file_extension": ".py",
   "mimetype": "text/x-python",
   "name": "python",
   "nbconvert_exporter": "python",
   "pygments_lexer": "ipython3",
   "version": "3.10.5"
  }
 },
 "nbformat": 4,
 "nbformat_minor": 5
}
