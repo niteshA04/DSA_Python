{
 "cells": [
  {
   "cell_type": "markdown",
   "id": "52032f3c",
   "metadata": {},
   "source": [
    "# Linear Search"
   ]
  },
  {
   "cell_type": "code",
   "execution_count": 17,
   "id": "5b4538fd",
   "metadata": {},
   "outputs": [],
   "source": [
    "li = [6,8,1,7,9]\n",
    "n = 7\n",
    "while i < len(li):\n",
    "    if li[i] == n:\n",
    "        print(\"Found at\",pos)\n",
    "    else:\n",
    "        print(\"Not Found\")\n",
    "    i+=1"
   ]
  }
 ],
 "metadata": {},
 "nbformat": 4,
 "nbformat_minor": 5
}
