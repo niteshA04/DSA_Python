{
 "cells": [
  {
   "cell_type": "markdown",
   "id": "bff58c8b",
   "metadata": {},
   "source": [
    "# Stack using List"
   ]
  },
  {
   "cell_type": "markdown",
   "id": "76099b85",
   "metadata": {},
   "source": [
    "- Stack is a data structure which works on the Last in First Out (LIFO) and First In First Out (FIFO) principle.\n",
    "- Eg: Stack of plates, Stack of books etc.\n",
    "- Stack Operations are:\n",
    "    1. Push\n",
    "    2. Pop\n",
    "    3. Peek or Top\n",
    "    4. isEmpty\n",
    "- Push: Push operation allows us to add elements into the stack.\n",
    "- Pop: Pop operation allows us to remove the elements from the stack.\n",
    "- Peek or Top: Peek or Top operation tells which element is present at the top.\n",
    "- isEmpty: isEmpty tells us wheather the stack is empty or not.\n",
    "- Characterstics of Stack:\n",
    "    1. Important Data Structure.\n",
    "    2. Allows us to reverse a string.\n",
    "- In python Stack is not a built in data structure.\n",
    "- Stacks can be implemented using \n",
    "    1. List and\n",
    "    2. Modules\n",
    "- In python .append() and .pop() are used for PUSH and POP Operations."
   ]
  },
  {
   "cell_type": "markdown",
   "id": "925d4590",
   "metadata": {},
   "source": [
    "# Implementation of Stacks using List."
   ]
  },
  {
   "cell_type": "markdown",
   "id": "bb3a0fe7",
   "metadata": {},
   "source": [
    "#### 1) PUSH OPERATION"
   ]
  },
  {
   "cell_type": "code",
   "execution_count": 2,
   "id": "08820a45",
   "metadata": {},
   "outputs": [
    {
     "name": "stdout",
     "output_type": "stream",
     "text": [
      "Enter the total number of elements you want to store:5\n",
      "Add elements: 1\n",
      "Add elements: 2\n",
      "Add elements: 3\n",
      "Add elements: 4\n",
      "Add elements: 5\n",
      "Your Stack is:  [1, 2, 3, 4, 5]\n"
     ]
    }
   ],
   "source": [
    "stack = []\n",
    "n = int(input('Enter the total number of elements you want to store:'))\n",
    "\n",
    "for i in range(n):\n",
    "    push = int(input(\"Add elements: \"))\n",
    "    stack.append(push)\n",
    "\n",
    "print(\"Your Stack is: \",stack)"
   ]
  },
  {
   "cell_type": "code",
   "execution_count": 46,
   "id": "817dc064",
   "metadata": {},
   "outputs": [],
   "source": [
    "# PUSH Function\n",
    "def push(n):\n",
    "    stack.append(n)\n",
    "    print(\"Current Stack: \",stack,\"\\n\")"
   ]
  },
  {
   "cell_type": "markdown",
   "id": "93f6d213",
   "metadata": {},
   "source": [
    "#### 2) POP OPERATION"
   ]
  },
  {
   "cell_type": "code",
   "execution_count": 24,
   "id": "b1dafcf5",
   "metadata": {},
   "outputs": [],
   "source": [
    "# POP Function\n",
    "def pop():\n",
    "    if len(stack) == 0:\n",
    "        print('STACK EMPTY')\n",
    "    else:\n",
    "        e = stack.pop()\n",
    "        print(\"REMOVED\",e)\n",
    "        print(stack)"
   ]
  },
  {
   "cell_type": "markdown",
   "id": "e032a5a5",
   "metadata": {},
   "source": [
    "### Using PUSH and POP Functions"
   ]
  },
  {
   "cell_type": "code",
   "execution_count": 25,
   "id": "0bd0d823",
   "metadata": {},
   "outputs": [
    {
     "name": "stdout",
     "output_type": "stream",
     "text": [
      "[5, 24, 75, 5, 24, 75, 'Hello', 5]\n"
     ]
    }
   ],
   "source": [
    "push(5)"
   ]
  },
  {
   "cell_type": "code",
   "execution_count": 26,
   "id": "8975ba6d",
   "metadata": {},
   "outputs": [
    {
     "name": "stdout",
     "output_type": "stream",
     "text": [
      "[5, 24, 75, 5, 24, 75, 'Hello', 5, 24]\n"
     ]
    }
   ],
   "source": [
    "push(24)"
   ]
  },
  {
   "cell_type": "code",
   "execution_count": 27,
   "id": "b558a6dc",
   "metadata": {},
   "outputs": [
    {
     "name": "stdout",
     "output_type": "stream",
     "text": [
      "[5, 24, 75, 5, 24, 75, 'Hello', 5, 24, 75]\n"
     ]
    }
   ],
   "source": [
    "push(75)"
   ]
  },
  {
   "cell_type": "code",
   "execution_count": 28,
   "id": "26627514",
   "metadata": {},
   "outputs": [
    {
     "name": "stdout",
     "output_type": "stream",
     "text": [
      "[5, 24, 75, 5, 24, 75, 'Hello', 5, 24, 75, 'Hello']\n"
     ]
    }
   ],
   "source": [
    "push(\"Hello\")"
   ]
  },
  {
   "cell_type": "code",
   "execution_count": 29,
   "id": "72791110",
   "metadata": {},
   "outputs": [
    {
     "name": "stdout",
     "output_type": "stream",
     "text": [
      "[5, 24, 75, 5, 24, 75, 'Hello', 5, 24, 75, 'Hello', 'World']\n"
     ]
    }
   ],
   "source": [
    "push(\"World\")"
   ]
  },
  {
   "cell_type": "code",
   "execution_count": 30,
   "id": "951eb0aa",
   "metadata": {},
   "outputs": [
    {
     "name": "stdout",
     "output_type": "stream",
     "text": [
      "REMOVED World\n",
      "[5, 24, 75, 5, 24, 75, 'Hello', 5, 24, 75, 'Hello']\n"
     ]
    }
   ],
   "source": [
    "pop()"
   ]
  },
  {
   "cell_type": "code",
   "execution_count": 31,
   "id": "065fdc83",
   "metadata": {},
   "outputs": [
    {
     "name": "stdout",
     "output_type": "stream",
     "text": [
      "REMOVED Hello\n",
      "[5, 24, 75, 5, 24, 75, 'Hello', 5, 24, 75]\n"
     ]
    }
   ],
   "source": [
    "pop()"
   ]
  },
  {
   "cell_type": "code",
   "execution_count": 33,
   "id": "11fc5ccb",
   "metadata": {},
   "outputs": [
    {
     "name": "stdout",
     "output_type": "stream",
     "text": [
      "[5, 24, 75, 5, 24, 75, 'Hello', 5, 24, 75, 58652.25]\n"
     ]
    }
   ],
   "source": [
    "push(58652.25)"
   ]
  },
  {
   "cell_type": "code",
   "execution_count": 34,
   "id": "79ad3a52",
   "metadata": {},
   "outputs": [
    {
     "name": "stdout",
     "output_type": "stream",
     "text": [
      "[5, 24, 75, 5, 24, 75, 'Hello', 5, 24, 75, 58652.25, -54]\n"
     ]
    }
   ],
   "source": [
    "push(-54)"
   ]
  },
  {
   "cell_type": "code",
   "execution_count": 35,
   "id": "a1fa6460",
   "metadata": {},
   "outputs": [
    {
     "name": "stdout",
     "output_type": "stream",
     "text": [
      "[5, 24, 75, 5, 24, 75, 'Hello', 5, 24, 75, 58652.25, -54, True]\n"
     ]
    }
   ],
   "source": [
    "push(True)"
   ]
  },
  {
   "cell_type": "code",
   "execution_count": 36,
   "id": "bdb0e10e",
   "metadata": {},
   "outputs": [
    {
     "name": "stdout",
     "output_type": "stream",
     "text": [
      "[5, 24, 75, 5, 24, 75, 'Hello', 5, 24, 75, 58652.25, -54, True, False]\n"
     ]
    }
   ],
   "source": [
    "push(False)"
   ]
  },
  {
   "cell_type": "code",
   "execution_count": 37,
   "id": "f817fed1",
   "metadata": {},
   "outputs": [
    {
     "name": "stdout",
     "output_type": "stream",
     "text": [
      "REMOVED False\n",
      "[5, 24, 75, 5, 24, 75, 'Hello', 5, 24, 75, 58652.25, -54, True]\n"
     ]
    }
   ],
   "source": [
    "pop()"
   ]
  },
  {
   "cell_type": "code",
   "execution_count": 38,
   "id": "5c10557a",
   "metadata": {},
   "outputs": [
    {
     "name": "stdout",
     "output_type": "stream",
     "text": [
      "REMOVED True\n",
      "[5, 24, 75, 5, 24, 75, 'Hello', 5, 24, 75, 58652.25, -54]\n"
     ]
    }
   ],
   "source": [
    "pop()"
   ]
  },
  {
   "cell_type": "code",
   "execution_count": 39,
   "id": "e52ee7eb",
   "metadata": {},
   "outputs": [
    {
     "name": "stdout",
     "output_type": "stream",
     "text": [
      "REMOVED -54\n",
      "[5, 24, 75, 5, 24, 75, 'Hello', 5, 24, 75, 58652.25]\n"
     ]
    }
   ],
   "source": [
    "pop()"
   ]
  },
  {
   "cell_type": "code",
   "execution_count": 40,
   "id": "2954b910",
   "metadata": {},
   "outputs": [
    {
     "name": "stdout",
     "output_type": "stream",
     "text": [
      "REMOVED 58652.25\n",
      "[5, 24, 75, 5, 24, 75, 'Hello', 5, 24, 75]\n"
     ]
    }
   ],
   "source": [
    "pop()"
   ]
  },
  {
   "cell_type": "code",
   "execution_count": 41,
   "id": "45cb25a7",
   "metadata": {},
   "outputs": [
    {
     "name": "stdout",
     "output_type": "stream",
     "text": [
      "REMOVED 75\n",
      "[5, 24, 75, 5, 24, 75, 'Hello', 5, 24]\n"
     ]
    }
   ],
   "source": [
    "pop()"
   ]
  },
  {
   "cell_type": "code",
   "execution_count": 42,
   "id": "130a7018",
   "metadata": {},
   "outputs": [
    {
     "name": "stdout",
     "output_type": "stream",
     "text": [
      "REMOVED 24\n",
      "[5, 24, 75, 5, 24, 75, 'Hello', 5]\n"
     ]
    }
   ],
   "source": [
    "pop()"
   ]
  },
  {
   "cell_type": "markdown",
   "id": "8fe38ac8",
   "metadata": {},
   "source": [
    "### Making Mini Program "
   ]
  },
  {
   "cell_type": "code",
   "execution_count": 50,
   "id": "8daa69a5",
   "metadata": {},
   "outputs": [],
   "source": [
    "stack=[]"
   ]
  },
  {
   "cell_type": "code",
   "execution_count": 51,
   "id": "cf0ae61c",
   "metadata": {},
   "outputs": [
    {
     "name": "stdout",
     "output_type": "stream",
     "text": [
      "Select an option:\n",
      "1. Push\n",
      "2. Pop\n",
      "3. Quit\n",
      "\n",
      "1\n",
      "Enter Element: 846\n",
      "Current Stack:  ['846'] \n",
      "\n",
      "Select an option:\n",
      "1. Push\n",
      "2. Pop\n",
      "3. Quit\n",
      "\n",
      "1\n",
      "Enter Element: 64165\n",
      "Current Stack:  ['846', '64165'] \n",
      "\n",
      "Select an option:\n",
      "1. Push\n",
      "2. Pop\n",
      "3. Quit\n",
      "\n",
      "1\n",
      "Enter Element: sdfg\n",
      "Current Stack:  ['846', '64165', 'sdfg'] \n",
      "\n",
      "Select an option:\n",
      "1. Push\n",
      "2. Pop\n",
      "3. Quit\n",
      "\n",
      "1\n",
      "Enter Element: reyhrtjs\n",
      "Current Stack:  ['846', '64165', 'sdfg', 'reyhrtjs'] \n",
      "\n",
      "Select an option:\n",
      "1. Push\n",
      "2. Pop\n",
      "3. Quit\n",
      "\n",
      "1\n",
      "Enter Element: 452.4623\n",
      "Current Stack:  ['846', '64165', 'sdfg', 'reyhrtjs', '452.4623'] \n",
      "\n",
      "Select an option:\n",
      "1. Push\n",
      "2. Pop\n",
      "3. Quit\n",
      "\n",
      "1\n",
      "Enter Element: -6546.65\n",
      "Current Stack:  ['846', '64165', 'sdfg', 'reyhrtjs', '452.4623', '-6546.65'] \n",
      "\n",
      "Select an option:\n",
      "1. Push\n",
      "2. Pop\n",
      "3. Quit\n",
      "\n",
      "1\n",
      "Enter Element: True\n",
      "Current Stack:  ['846', '64165', 'sdfg', 'reyhrtjs', '452.4623', '-6546.65', 'True'] \n",
      "\n",
      "Select an option:\n",
      "1. Push\n",
      "2. Pop\n",
      "3. Quit\n",
      "\n",
      "False\n"
     ]
    },
    {
     "ename": "ValueError",
     "evalue": "invalid literal for int() with base 10: 'False'",
     "output_type": "error",
     "traceback": [
      "\u001b[1;31m---------------------------------------------------------------------------\u001b[0m",
      "\u001b[1;31mValueError\u001b[0m                                Traceback (most recent call last)",
      "Input \u001b[1;32mIn [51]\u001b[0m, in \u001b[0;36m<cell line: 1>\u001b[1;34m()\u001b[0m\n\u001b[0;32m      1\u001b[0m \u001b[38;5;28;01mwhile\u001b[39;00m \u001b[38;5;28;01mTrue\u001b[39;00m:\n\u001b[0;32m      2\u001b[0m     \u001b[38;5;28mprint\u001b[39m(\u001b[38;5;124m'\u001b[39m\u001b[38;5;124mSelect an option:\u001b[39m\u001b[38;5;130;01m\\n\u001b[39;00m\u001b[38;5;124m1. Push\u001b[39m\u001b[38;5;130;01m\\n\u001b[39;00m\u001b[38;5;124m2. Pop\u001b[39m\u001b[38;5;130;01m\\n\u001b[39;00m\u001b[38;5;124m3. Quit\u001b[39m\u001b[38;5;130;01m\\n\u001b[39;00m\u001b[38;5;124m'\u001b[39m)\n\u001b[1;32m----> 3\u001b[0m     choice \u001b[38;5;241m=\u001b[39m \u001b[38;5;28;43mint\u001b[39;49m\u001b[43m(\u001b[49m\u001b[38;5;28;43minput\u001b[39;49m\u001b[43m(\u001b[49m\u001b[43m)\u001b[49m\u001b[43m)\u001b[49m\n\u001b[0;32m      4\u001b[0m     \u001b[38;5;28;01mif\u001b[39;00m choice \u001b[38;5;241m==\u001b[39m \u001b[38;5;241m1\u001b[39m:\n\u001b[0;32m      5\u001b[0m         push(\u001b[38;5;28minput\u001b[39m(\u001b[38;5;124m'\u001b[39m\u001b[38;5;124mEnter Element: \u001b[39m\u001b[38;5;124m'\u001b[39m))\n",
      "\u001b[1;31mValueError\u001b[0m: invalid literal for int() with base 10: 'False'"
     ]
    }
   ],
   "source": [
    "while True:\n",
    "    print('Select an option:\\n1. Push\\n2. Pop\\n3. Quit\\n')\n",
    "    choice = int(input())\n",
    "    if choice == 1:\n",
    "        push(input('Enter Element: '))\n",
    "    elif choice == 2:\n",
    "        pop()\n",
    "    elif choice == 3:\n",
    "        break\n",
    "    else:\n",
    "        print(\"Correct Option Please\\n\")"
   ]
  },
  {
   "cell_type": "code",
   "execution_count": null,
   "id": "f95347fb",
   "metadata": {},
   "outputs": [],
   "source": []
  }
 ],
 "metadata": {
  "kernelspec": {
   "display_name": "Python 3 (ipykernel)",
   "language": "python",
   "name": "python3"
  },
  "language_info": {
   "codemirror_mode": {
    "name": "ipython",
    "version": 3
   },
   "file_extension": ".py",
   "mimetype": "text/x-python",
   "name": "python",
   "nbconvert_exporter": "python",
   "pygments_lexer": "ipython3",
   "version": "3.10.5"
  }
 },
 "nbformat": 4,
 "nbformat_minor": 5
}
