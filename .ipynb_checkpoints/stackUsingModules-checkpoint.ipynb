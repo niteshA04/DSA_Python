{
 "cells": [
  {
   "cell_type": "markdown",
   "id": "6bcf52db",
   "metadata": {},
   "source": [
    "# Stack using Modules\n",
    "- Stack is a data structure which works on the Last in First Out (LIFO) and First In First Out (FIFO) principle.\n",
    "- Eg: Stack of plates, Stack of books etc.\n",
    "- Stack Operations are:\n",
    "    1. Push\n",
    "    2. Pop\n",
    "    3. Peek or Top\n",
    "    4. isEmpty\n",
    "- Push: Push operation allows us to add elements into the stack.\n",
    "- Pop: Pop operation allows us to remove the elements from the stack.\n",
    "- Peek or Top: Peek or Top operation tells which element is present at the top.\n",
    "- isEmpty: isEmpty tells us wheather the stack is empty or not.\n",
    "- Characterstics of Stack:\n",
    "    1. Important Data Structure.\n",
    "    2. Allows us to reverse a string.\n",
    "- In python Stack is not a built in data structure.\n",
    "- Stacks can be implemented using \n",
    "    1. List and\n",
    "    2. Modules\n",
    "- In python .append() and .pop() are used for PUSH and POP Operations.\n",
    "- For making stack using modules we have to use .deque() function."
   ]
  },
  {
   "cell_type": "code",
   "execution_count": 1,
   "id": "ed4b8cc2",
   "metadata": {},
   "outputs": [],
   "source": [
    "import collections as c"
   ]
  },
  {
   "cell_type": "code",
   "execution_count": 18,
   "id": "e9594a5c",
   "metadata": {},
   "outputs": [],
   "source": [
    "stack = c.deque()"
   ]
  },
  {
   "cell_type": "code",
   "execution_count": 19,
   "id": "9ecdaf81",
   "metadata": {},
   "outputs": [
    {
     "data": {
      "text/plain": [
       "deque([])"
      ]
     },
     "execution_count": 19,
     "metadata": {},
     "output_type": "execute_result"
    }
   ],
   "source": [
    "stack"
   ]
  },
  {
   "cell_type": "code",
   "execution_count": 20,
   "id": "4ae51b2f",
   "metadata": {},
   "outputs": [],
   "source": [
    "def push(n):\n",
    "    if len(stack)==n:\n",
    "        print('Stack Full\\n')\n",
    "    else:\n",
    "        stack.append(n)\n",
    "        print(stack)"
   ]
  },
  {
   "cell_type": "code",
   "execution_count": 21,
   "id": "ba20188d",
   "metadata": {},
   "outputs": [],
   "source": [
    "def popElement():\n",
    "    if len(stack)==0:\n",
    "        print(\"Stack Empty\\n\")\n",
    "    else:\n",
    "        e = stack.pop()\n",
    "        print(\"Element Removed\\n\", e)\n",
    "        print(stack)"
   ]
  },
  {
   "cell_type": "code",
   "execution_count": 22,
   "id": "e625577d",
   "metadata": {},
   "outputs": [
    {
     "name": "stdout",
     "output_type": "stream",
     "text": [
      "\n",
      "Select Choice:\n",
      "1. Push\n",
      "2. Pop\n",
      "3. Quit\n",
      "\n",
      "1\n",
      "Enter element: \n",
      "2165\n",
      "deque(['2165'])\n",
      "\n",
      "Select Choice:\n",
      "1. Push\n",
      "2. Pop\n",
      "3. Quit\n",
      "\n",
      "1\n",
      "Enter element: \n",
      "5468\n",
      "deque(['2165', '5468'])\n",
      "\n",
      "Select Choice:\n",
      "1. Push\n",
      "2. Pop\n",
      "3. Quit\n",
      "\n",
      "1\n",
      "Enter element: \n",
      "3854\n",
      "deque(['2165', '5468', '3854'])\n",
      "\n",
      "Select Choice:\n",
      "1. Push\n",
      "2. Pop\n",
      "3. Quit\n",
      "\n",
      "1\n",
      "Enter element: \n",
      "asgar\n",
      "deque(['2165', '5468', '3854', 'asgar'])\n",
      "\n",
      "Select Choice:\n",
      "1. Push\n",
      "2. Pop\n",
      "3. Quit\n",
      "\n",
      "1\n",
      "Enter element: \n",
      "heht1\n",
      "deque(['2165', '5468', '3854', 'asgar', 'heht1'])\n",
      "\n",
      "Select Choice:\n",
      "1. Push\n",
      "2. Pop\n",
      "3. Quit\n",
      "\n",
      "1\n",
      "Enter element: \n",
      "4846\n",
      "deque(['2165', '5468', '3854', 'asgar', 'heht1', '4846'])\n",
      "\n",
      "Select Choice:\n",
      "1. Push\n",
      "2. Pop\n",
      "3. Quit\n",
      "\n",
      "1\n",
      "Enter element: \n",
      "54853\n",
      "deque(['2165', '5468', '3854', 'asgar', 'heht1', '4846', '54853'])\n",
      "\n",
      "Select Choice:\n",
      "1. Push\n",
      "2. Pop\n",
      "3. Quit\n",
      "\n",
      "2\n",
      "Element Removed\n",
      " 54853\n",
      "deque(['2165', '5468', '3854', 'asgar', 'heht1', '4846'])\n",
      "\n",
      "Select Choice:\n",
      "1. Push\n",
      "2. Pop\n",
      "3. Quit\n",
      "\n",
      "2\n",
      "Element Removed\n",
      " 4846\n",
      "deque(['2165', '5468', '3854', 'asgar', 'heht1'])\n",
      "\n",
      "Select Choice:\n",
      "1. Push\n",
      "2. Pop\n",
      "3. Quit\n",
      "\n",
      "3\n"
     ]
    }
   ],
   "source": [
    "while True:\n",
    "    print(\"\\nSelect Choice:\\n1. Push\\n2. Pop\\n3. Quit\\n\")\n",
    "    choice = int(input())\n",
    "    if choice==1:\n",
    "        push(input(\"Enter element: \\n\"))\n",
    "    elif choice==2:\n",
    "        popElement()\n",
    "    elif choice==3:\n",
    "        break\n",
    "    else:\n",
    "        print(\"Enter Appropriate Option!!\\n\")"
   ]
  },
  {
   "cell_type": "code",
   "execution_count": null,
   "id": "44414426",
   "metadata": {},
   "outputs": [],
   "source": []
  }
 ],
 "metadata": {
  "kernelspec": {
   "display_name": "Python 3 (ipykernel)",
   "language": "python",
   "name": "python3"
  },
  "language_info": {
   "codemirror_mode": {
    "name": "ipython",
    "version": 3
   },
   "file_extension": ".py",
   "mimetype": "text/x-python",
   "name": "python",
   "nbconvert_exporter": "python",
   "pygments_lexer": "ipython3",
   "version": "3.10.5"
  }
 },
 "nbformat": 4,
 "nbformat_minor": 5
}
